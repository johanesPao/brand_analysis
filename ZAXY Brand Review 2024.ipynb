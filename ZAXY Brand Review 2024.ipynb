{
 "cells": [
  {
   "cell_type": "markdown",
   "id": "79a2ee0f-7fa8-4b64-ac07-fae4bc681b8d",
   "metadata": {},
   "source": [
    "# ZAXY Brand Review 2024"
   ]
  },
  {
   "cell_type": "code",
   "execution_count": null,
   "id": "474aa257-7976-4d5b-bb41-98f97c01abe0",
   "metadata": {},
   "outputs": [],
   "source": [
    "from db import Database\n",
    "from queries import Queries\n",
    "from warnings import filterwarnings\n",
    "import pandas as pd\n",
    "from matplotlib import pyplot as plt"
   ]
  },
  {
   "cell_type": "code",
   "execution_count": null,
   "id": "799cfd05",
   "metadata": {},
   "outputs": [],
   "source": [
    "%matplotlib inline"
   ]
  },
  {
   "cell_type": "code",
   "execution_count": null,
   "id": "be6ba30e-0232-4abd-bef9-7c2b07dd7c6d",
   "metadata": {},
   "outputs": [],
   "source": [
    "filterwarnings(\"ignore\", category=UserWarning, message='.*pandas only supports SQLAlchemy connectable.*')"
   ]
  },
  {
   "cell_type": "code",
   "execution_count": null,
   "id": "98ef22be-e5b2-4184-a9b1-49b9efeab5af",
   "metadata": {},
   "outputs": [],
   "source": [
    "db = Database()\n",
    "queries = Queries()\n",
    "sql = queries.get_retail_sales(\n",
    "    brands=\"ZAXY\",\n",
    "    loc_brands=['ZAXY','ALL'],\n",
    "    years=2024,\n",
    "    intra_mode=\"NIC\",\n",
    "    intras_loc=['BAZZAR']\n",
    ")\n",
    "print(\"sql:\", sql)\n",
    "df = pd.read_sql(sql, db.sos_conn())\n",
    "df.head()\n"
   ]
  },
  {
   "cell_type": "code",
   "execution_count": null,
   "id": "06e28334-962d-4128-833a-6661c23755df",
   "metadata": {},
   "outputs": [],
   "source": [
    "df_by_date = df[['item_brand', 'year', 'month', 'customer_paid']].groupby(['item_brand', 'year', 'month']).sum()\n",
    "df_by_date"
   ]
  },
  {
   "cell_type": "code",
   "execution_count": null,
   "id": "bcbb8cd5",
   "metadata": {},
   "outputs": [],
   "source": [
    "datetime = df_by_date.index.get_level_values('month')\n",
    "amount = df_by_date['customer_paid']\n",
    "amount"
   ]
  },
  {
   "cell_type": "code",
   "execution_count": null,
   "id": "1b1eec7b",
   "metadata": {},
   "outputs": [],
   "source": [
    "fig, ax = plt.subplots(figsize=(10, 5))\n",
    "\n",
    "ax.bar(datetime, amount)\n",
    "plt.show()"
   ]
  },
  {
   "cell_type": "code",
   "execution_count": null,
   "id": "c6ec9cd7",
   "metadata": {},
   "outputs": [],
   "source": []
  }
 ],
 "metadata": {
  "kernelspec": {
   "display_name": "Python 3 (ipykernel)",
   "language": "python",
   "name": "python3"
  },
  "language_info": {
   "codemirror_mode": {
    "name": "ipython",
    "version": 3
   },
   "file_extension": ".py",
   "mimetype": "text/x-python",
   "name": "python",
   "nbconvert_exporter": "python",
   "pygments_lexer": "ipython3",
   "version": "3.13.1"
  }
 },
 "nbformat": 4,
 "nbformat_minor": 5
}
