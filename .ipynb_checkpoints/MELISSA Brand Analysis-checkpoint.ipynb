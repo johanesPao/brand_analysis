{
 "cells": [
  {
   "cell_type": "markdown",
   "id": "79a2ee0f-7fa8-4b64-ac07-fae4bc681b8d",
   "metadata": {},
   "source": [
    "# ZAXY Brand Analysis"
   ]
  },
  {
   "cell_type": "code",
   "execution_count": null,
   "id": "474aa257-7976-4d5b-bb41-98f97c01abe0",
   "metadata": {},
   "outputs": [],
   "source": [
    "from db import Database\n",
    "import os\n",
    "from warnings import filterwarnings\n",
    "import pandas as pd"
   ]
  },
  {
   "cell_type": "code",
   "execution_count": null,
   "id": "be6ba30e-0232-4abd-bef9-7c2b07dd7c6d",
   "metadata": {},
   "outputs": [],
   "source": [
    "filterwarnings(\"ignore\", category=UserWarning, message='.*pandas only supports SQLAlchemy connectable.*')"
   ]
  },
  {
   "cell_type": "code",
   "execution_count": null,
   "id": "98ef22be-e5b2-4184-a9b1-49b9efeab5af",
   "metadata": {},
   "outputs": [],
   "source": [
    "db = Database()\n",
    "sql = 'SELECT * FROM MS_SHOWROOM'\n",
    "df = pd.read_sql(sql, db.sos_conn())\n",
    "df.tail(5)"
   ]
  },
  {
   "cell_type": "code",
   "execution_count": null,
   "id": "06e28334-962d-4128-833a-6661c23755df",
   "metadata": {},
   "outputs": [],
   "source": []
  }
 ],
 "metadata": {
  "kernelspec": {
   "display_name": "Python 3 (ipykernel)",
   "language": "python",
   "name": "python3"
  },
  "language_info": {
   "codemirror_mode": {
    "name": "ipython",
    "version": 3
   },
   "file_extension": ".py",
   "mimetype": "text/x-python",
   "name": "python",
   "nbconvert_exporter": "python",
   "pygments_lexer": "ipython3",
   "version": "3.13.1"
  }
 },
 "nbformat": 4,
 "nbformat_minor": 5
}
